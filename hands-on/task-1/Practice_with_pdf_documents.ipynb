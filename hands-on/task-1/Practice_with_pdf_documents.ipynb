{
 "cells": [
  {
   "cell_type": "markdown",
   "metadata": {},
   "source": [
    "## PyPDF2 library and working with files"
   ]
  },
  {
   "cell_type": "markdown",
   "metadata": {},
   "source": [
    "https://pypi.org/project/PyPDF2/#description            \n",
    "https://pythonhosted.org/PyPDF2/"
   ]
  },
  {
   "cell_type": "markdown",
   "metadata": {},
   "source": [
    "### Reading a pdf file. Extracting text of a single page."
   ]
  },
  {
   "cell_type": "code",
   "execution_count": 1,
   "metadata": {},
   "outputs": [],
   "source": [
    "# Importing library. Capital letters are important.\n",
    "import PyPDF2"
   ]
  },
  {
   "cell_type": "code",
   "execution_count": 2,
   "metadata": {},
   "outputs": [],
   "source": [
    "# Opening the file in binary mode\n",
    "my_pdf_file = open('Declaration_of_Human_Rights.pdf','rb')"
   ]
  },
  {
   "cell_type": "code",
   "execution_count": 3,
   "metadata": {},
   "outputs": [],
   "source": [
    "# Initializing a PdfFileReader object\n",
    "pdf_reader = PyPDF2.PdfFileReader(my_pdf_file)"
   ]
  },
  {
   "cell_type": "code",
   "execution_count": 4,
   "metadata": {},
   "outputs": [
    {
     "data": {
      "text/plain": [
       "6"
      ]
     },
     "execution_count": 4,
     "metadata": {},
     "output_type": "execute_result"
    }
   ],
   "source": [
    "#Calculate the number of pages in the dosument\n",
    "pdf_reader.numPages"
   ]
  },
  {
   "cell_type": "code",
   "execution_count": 5,
   "metadata": {},
   "outputs": [],
   "source": [
    "# Get the page number 3\n",
    "page_3 = pdf_reader.getPage(2)"
   ]
  },
  {
   "cell_type": "code",
   "execution_count": 6,
   "metadata": {},
   "outputs": [],
   "source": [
    "# Get the text from page number 3\n",
    "page_3_text = page_3.extractText()"
   ]
  },
  {
   "cell_type": "code",
   "execution_count": 7,
   "metadata": {},
   "outputs": [
    {
     "name": "stdout",
     "output_type": "stream",
     "text": [
      "Article 10.\n",
      " \n",
      " \n",
      " \n",
      "Everyone is entitled in full equality to a fair and public hearing by an independent and impartial tribunal, \n",
      "in the determination of his rights and obligations and of any criminal charge against him.\n",
      " \n",
      "Article 11.\n",
      " \n",
      " \n",
      " \n",
      "(1) Everyone charged w\n",
      "ith a penal offence has the right to be presumed innocent until proved guilty \n",
      "according to law in a public trial at which he has had all the guarantees necessary for his defence.\n",
      " \n",
      "(2) No one shall be held guilty of any penal offence on account of any act or\n",
      " \n",
      "omission which did not \n",
      "constitute a penal offence, under national or international law, at the time when it was committed. Nor \n",
      "shall a heavier penalty be imposed than the one that was applicable at the time the penal offence was \n",
      "committed.\n",
      " \n",
      "Article 12.\n",
      " \n",
      " \n",
      " \n",
      "N\n",
      "o one shall be subjected to arbitrary interference with his privacy, family, home or correspondence, \n",
      "nor to attacks upon his honour and reputation. Everyone has the right to the protection of the law \n",
      "against such interference or attacks.\n",
      " \n",
      "Article 13.\n",
      " \n",
      " \n",
      " \n",
      "(1) \n",
      "Everyone has the right to freedom of movement and residence within the borders of each state.\n",
      " \n",
      "(2) Everyone has the right to leave any country, including his own, and to return to his country.\n",
      " \n",
      "Article 14.\n",
      " \n",
      " \n",
      " \n",
      "(1) Everyone has the right to seek and to enjoy in\n",
      " \n",
      "other countries asylum from persecution.\n",
      " \n",
      "(2) This right may not be invoked in the case of prosecutions genuinely arising from non\n",
      "-\n",
      "political crimes \n",
      "or from acts contrary to the purposes and principles of the United Nations.\n",
      " \n",
      "Article 15.\n",
      " \n",
      " \n",
      " \n",
      "(1) Everyone has t\n",
      "he right to a nationality.\n",
      " \n",
      "(2) No one shall be arbitrarily deprived of his nationality nor denied the right to change his nationality.\n",
      " \n",
      "Article 16.\n",
      " \n",
      " \n",
      " \n",
      "(1) Men and women of full age, without any limitation due to race, nationality or religion, have the right \n",
      "to marry and to found a family. They are entitled to equal rights as to marriage, during marriage and at \n",
      "its dissolution.\n",
      " \n",
      "\n"
     ]
    }
   ],
   "source": [
    "# Print the text\n",
    "print(page_3_text)"
   ]
  },
  {
   "cell_type": "code",
   "execution_count": 8,
   "metadata": {},
   "outputs": [],
   "source": [
    "#Close the file\n",
    "my_pdf_file.close()"
   ]
  },
  {
   "cell_type": "markdown",
   "metadata": {},
   "source": [
    "### Extracting text from the page and writing into a new file"
   ]
  },
  {
   "cell_type": "code",
   "execution_count": 9,
   "metadata": {},
   "outputs": [],
   "source": [
    "# Open the file in binary mode\n",
    "my_pdf_file = open('Declaration_of_Human_Rights.pdf','rb')"
   ]
  },
  {
   "cell_type": "code",
   "execution_count": 10,
   "metadata": {},
   "outputs": [],
   "source": [
    "# Initialize a PdfFileReader object\n",
    "pdf_reader = PyPDF2.PdfFileReader(my_pdf_file)"
   ]
  },
  {
   "cell_type": "code",
   "execution_count": 11,
   "metadata": {},
   "outputs": [],
   "source": [
    "# Get the first page\n",
    "page_3 = pdf_reader.getPage(0)"
   ]
  },
  {
   "cell_type": "code",
   "execution_count": 12,
   "metadata": {},
   "outputs": [],
   "source": [
    "# Initialize a PdfFileWriter object\n",
    "pdf_writer = PyPDF2.PdfFileWriter()"
   ]
  },
  {
   "cell_type": "code",
   "execution_count": 13,
   "metadata": {},
   "outputs": [],
   "source": [
    "# Add a page acquired from a PdfFileReader instance to PdfFileWriter. \n",
    "pdf_writer.addPage(page_3)"
   ]
  },
  {
   "cell_type": "code",
   "execution_count": 14,
   "metadata": {},
   "outputs": [],
   "source": [
    "# Open the file to write your output in a binary mode\n",
    "pdf_to_be_written = open(\"write-output.txt\", \"wb\")"
   ]
  },
  {
   "cell_type": "code",
   "execution_count": 15,
   "metadata": {},
   "outputs": [],
   "source": [
    "# Write output to the file\n",
    "pdf_writer.write(pdf_to_be_written)"
   ]
  },
  {
   "cell_type": "code",
   "execution_count": 16,
   "metadata": {},
   "outputs": [
    {
     "name": "stdout",
     "output_type": "stream",
     "text": [
      "The Universal Declaration of Human Rights (UDHR) is a milestone document in the history of human rights. Drafted \n",
      "by representatives with different legal and cultural backgrounds from all regions of the world, the \n",
      "Declaration was \n",
      "proclaimed by the United Nations General Assembly in Paris on 10 December 1948 (General Assembly resolution \n",
      "217 A) as a common standard of achievements for all peoples and all nations.\n",
      " \n",
      "Whereas recognition of the inherent dignity an\n",
      "d of the equal and inalienable rights of all members of \n",
      "the human family is the foundation of freedom, justice and peace in the world,\n",
      " \n",
      "Whereas disregard and contempt for human rights have resulted in barbarous acts which have outraged \n",
      "the conscience of man\n",
      "kind, and the advent of a world in which human beings shall enjoy freedom of \n",
      "speech and belief and freedom from fear and want has been proclaimed as the highest aspiration of the \n",
      "common people,\n",
      " \n",
      "Whereas it is essential, if man is not to be compelled to have\n",
      " \n",
      "recourse, as a last resort, to rebellion \n",
      "against tyranny and oppression, that human rights should be protected by the rule of law,\n",
      " \n",
      "Whereas it is essential to promote the development of friendly relations between nations,\n",
      " \n",
      "Whereas the peoples of the United \n",
      "Nations have in the Charter reaffirmed their faith in fundamental \n",
      "human rights, in the dignity and worth of the human person and in the equal rights of men and women \n",
      "and have determined to promote social progress and better standards of life in larger free\n",
      "dom,\n",
      " \n",
      "Whereas Member States have pledged themselves to achieve, in co\n",
      "-\n",
      "operation with the United Nations, \n",
      "the promotion of universal respect for and observance of human rights and fundamental freedoms,\n",
      " \n",
      "Whereas a common understanding of these rights and freed\n",
      "oms is of the greatest importance for the \n",
      "full realization of this pledge,\n",
      " \n",
      "Now, Therefore THE GENERAL ASSEMBLY proclaims THIS UNIVERSAL DECLARATION OF HUMAN \n",
      "RIGHTS\n",
      " \n",
      "as a common standard of achievement for all peoples and all nations, to the end that every \n",
      "i\n",
      "ndividual and every organ of society, keeping this Declaration constantly in mind, shall strive by \n",
      "teaching and education to promote respect for these rights and freedoms and by progressive measures, \n",
      "national and international, to secure their universal an\n",
      "d effective recognition and observance, both \n",
      "among the peoples of Member States themselves and among the peoples of territories under their \n",
      "jurisdiction.\n",
      " \n",
      " \n",
      "Article 1.\n",
      " \n",
      " \n",
      " \n",
      "All human beings are born free and equal in dignity and rights. They are endowed with re\n",
      "ason and \n",
      "conscience and should act towards one another in a spirit of brotherhood.\n",
      " \n",
      "\n"
     ]
    }
   ],
   "source": [
    "# Close both files \n",
    "my_pdf_file.close()\n",
    "pdf_to_be_written.close()\n",
    "\n",
    "# test if it worked\n",
    "test = open(\"write-output.txt\", \"rb\")\n",
    "testP = PyPDF2.PdfFileReader(test)\n",
    "testP = testP.getPage(0)\n",
    "testT = testP.extractText()\n",
    "print(testT)\n",
    "test.close()\n",
    "my_pdf_file.close()"
   ]
  },
  {
   "cell_type": "markdown",
   "metadata": {},
   "source": [
    "## Get the whole text of Declaration"
   ]
  },
  {
   "cell_type": "code",
   "execution_count": 17,
   "metadata": {},
   "outputs": [],
   "source": [
    "# Open the file in binary more\n",
    "file = open('Declaration_of_Human_Rights.pdf','rb')"
   ]
  },
  {
   "cell_type": "code",
   "execution_count": 18,
   "metadata": {},
   "outputs": [],
   "source": [
    "# Read the text from pages and store it. Hint: use lists\n",
    "\n",
    "# init the list of pages\n",
    "ListOfPages = []\n",
    "\n",
    "# init the reader\n",
    "fileReader = PyPDF2.PdfFileReader(file)\n",
    "# get the number of pages\n",
    "num = fileReader.numPages\n",
    "\n",
    "# Loop through all pages\n",
    "for x in range(num):    \n",
    "    # extract the page\n",
    "    pdfPage = fileReader.getPage(x)\n",
    "    # extract the text\n",
    "    pdfText = pdfPage.extractText()\n",
    "    # append the text to the string\n",
    "    ListOfPages.append(pdfText)\n",
    "    \n"
   ]
  },
  {
   "cell_type": "code",
   "execution_count": 19,
   "metadata": {},
   "outputs": [],
   "source": [
    "# Close the file\n",
    "file.close()"
   ]
  },
  {
   "cell_type": "code",
   "execution_count": 20,
   "metadata": {
    "scrolled": true
   },
   "outputs": [
    {
     "name": "stdout",
     "output_type": "stream",
     "text": [
      "['The Universal Declaration of Human Rights (UDHR) is a milestone document in the history of human rights. Drafted \\nby representatives with different legal and cultural backgrounds from all regions of the world, the \\nDeclaration was \\nproclaimed by the United Nations General Assembly in Paris on 10 December 1948 (General Assembly resolution \\n217 A) as a common standard of achievements for all peoples and all nations.\\n \\nWhereas recognition of the inherent dignity an\\nd of the equal and inalienable rights of all members of \\nthe human family is the foundation of freedom, justice and peace in the world,\\n \\nWhereas disregard and contempt for human rights have resulted in barbarous acts which have outraged \\nthe conscience of man\\nkind, and the advent of a world in which human beings shall enjoy freedom of \\nspeech and belief and freedom from fear and want has been proclaimed as the highest aspiration of the \\ncommon people,\\n \\nWhereas it is essential, if man is not to be compelled to have\\n \\nrecourse, as a last resort, to rebellion \\nagainst tyranny and oppression, that human rights should be protected by the rule of law,\\n \\nWhereas it is essential to promote the development of friendly relations between nations,\\n \\nWhereas the peoples of the United \\nNations have in the Charter reaffirmed their faith in fundamental \\nhuman rights, in the dignity and worth of the human person and in the equal rights of men and women \\nand have determined to promote social progress and better standards of life in larger free\\ndom,\\n \\nWhereas Member States have pledged themselves to achieve, in co\\n-\\noperation with the United Nations, \\nthe promotion of universal respect for and observance of human rights and fundamental freedoms,\\n \\nWhereas a common understanding of these rights and freed\\noms is of the greatest importance for the \\nfull realization of this pledge,\\n \\nNow, Therefore THE GENERAL ASSEMBLY proclaims THIS UNIVERSAL DECLARATION OF HUMAN \\nRIGHTS\\n \\nas a common standard of achievement for all peoples and all nations, to the end that every \\ni\\nndividual and every organ of society, keeping this Declaration constantly in mind, shall strive by \\nteaching and education to promote respect for these rights and freedoms and by progressive measures, \\nnational and international, to secure their universal an\\nd effective recognition and observance, both \\namong the peoples of Member States themselves and among the peoples of territories under their \\njurisdiction.\\n \\n \\nArticle 1.\\n \\n \\n \\nAll human beings are born free and equal in dignity and rights. They are endowed with re\\nason and \\nconscience and should act towards one another in a spirit of brotherhood.\\n \\n', 'Article 2.\\n \\n \\n \\nEveryone is entitled to all the rights and freedoms set forth in this Declaration, without distinction of any \\nkind, such as race, colour, sex, language, religio\\nn, political or other opinion, national or social origin, \\nproperty, birth or other status. Furthermore, no distinction shall be made on the basis of the political, \\njurisdictional or international status of the country or territory to which a person belongs\\n, whether it be \\nindependent, trust, non\\n-\\nself\\n-\\ngoverning or under any other limitation of sovereignty.\\n \\nArticle 3.\\n \\n \\n \\nEveryone has the right to life, liberty and security of person.\\n \\nArticle 4.\\n \\n \\n \\nNo one shall be held in slavery or servitude; slavery and the sla\\nve trade shall be prohibited in all their \\nforms.\\n \\nArticle 5.\\n \\n \\n \\nNo one shall be subjected to torture or to cruel, inhuman or degrading treatment or punishment.\\n \\nArticle 6.\\n \\n \\n \\nEveryone has the right to recognition everywhere as a person before the law.\\n \\nArticle \\n7.\\n \\n \\n \\nAll are equal before the law and are entitled without any discrimination to equal protection of the law. \\nAll are entitled to equal protection against any discrimination in violation of this Declaration and against \\nany incitement to such discrimination\\n.\\n \\nArticle 8.\\n \\n \\n \\nEveryone has the right to an effective remedy by the competent national tribunals for acts violating the \\nfundamental rights granted him by the constitution or by law.\\n \\nArticle 9.\\n \\n \\n \\nNo one shall be subjected to arbitrary arrest, detention or e\\nxile.\\n \\n', 'Article 10.\\n \\n \\n \\nEveryone is entitled in full equality to a fair and public hearing by an independent and impartial tribunal, \\nin the determination of his rights and obligations and of any criminal charge against him.\\n \\nArticle 11.\\n \\n \\n \\n(1) Everyone charged w\\nith a penal offence has the right to be presumed innocent until proved guilty \\naccording to law in a public trial at which he has had all the guarantees necessary for his defence.\\n \\n(2) No one shall be held guilty of any penal offence on account of any act or\\n \\nomission which did not \\nconstitute a penal offence, under national or international law, at the time when it was committed. Nor \\nshall a heavier penalty be imposed than the one that was applicable at the time the penal offence was \\ncommitted.\\n \\nArticle 12.\\n \\n \\n \\nN\\no one shall be subjected to arbitrary interference with his privacy, family, home or correspondence, \\nnor to attacks upon his honour and reputation. Everyone has the right to the protection of the law \\nagainst such interference or attacks.\\n \\nArticle 13.\\n \\n \\n \\n(1) \\nEveryone has the right to freedom of movement and residence within the borders of each state.\\n \\n(2) Everyone has the right to leave any country, including his own, and to return to his country.\\n \\nArticle 14.\\n \\n \\n \\n(1) Everyone has the right to seek and to enjoy in\\n \\nother countries asylum from persecution.\\n \\n(2) This right may not be invoked in the case of prosecutions genuinely arising from non\\n-\\npolitical crimes \\nor from acts contrary to the purposes and principles of the United Nations.\\n \\nArticle 15.\\n \\n \\n \\n(1) Everyone has t\\nhe right to a nationality.\\n \\n(2) No one shall be arbitrarily deprived of his nationality nor denied the right to change his nationality.\\n \\nArticle 16.\\n \\n \\n \\n(1) Men and women of full age, without any limitation due to race, nationality or religion, have the right \\nto marry and to found a family. They are entitled to equal rights as to marriage, during marriage and at \\nits dissolution.\\n \\n', '(2) Marriage shall be entered into only with the free and full consent of the intending spouses.\\n \\n(3) The family is the natural and fun\\ndamental group unit of society and is entitled to protection by \\nsociety and the State.\\n \\nArticle 17.\\n \\n \\n \\n(1) Everyone has the right to own property alone as well as in association with others.\\n \\n(2) No one shall be arbitrarily deprived of his property.\\n \\nArticle \\n18.\\n \\n \\n \\nEveryone has the right to freedom of thought, conscience and religion; this right includes freedom to \\nchange his religion or belief, and freedom, either alone or in community with others and in public or \\nprivate, to manifest his religion or belief in\\n \\nteaching, practice, worship and observance.\\n \\nArticle 19.\\n \\n \\n \\nEveryone has the right to freedom of opinion and expression; this right includes freedom to hold \\nopinions without interference and to seek, receive and impart information and ideas through any \\nmedia \\nand regardless of frontiers.\\n \\nArticle 20.\\n \\n \\n \\n(1) Everyone has the right to freedom of peaceful assembly and association.\\n \\n(2) No one may be compelled to belong to an association.\\n \\nArticle 21.\\n \\n \\n \\n(1) Everyone has the right to take part in the government of\\n \\nhis country, directly or through freely \\nchosen representatives.\\n \\n(2) Everyone has the right of equal access to public service in his country.\\n \\n(3) The will of the people shall be the basis of the authority of government; this will shall be expressed in \\nperi\\nodic and genuine elections which shall be by universal and equal suffrage and shall be held by secret \\nvote or by equivalent free voting procedures.\\n \\nArticle 22.\\n \\n \\n \\nEveryone, as a member of society, has the right to social security and is entitled to realizat\\nion, through \\nnational effort and international co\\n-\\noperation and in accordance with the organization and resources of \\neach State, of the economic, social and cultural rights indispensable for his dignity and the free \\ndevelopment of his personality.\\n \\n', 'Article \\n23.\\n \\n \\n \\n(1) Everyone has the right to work, to free choice of employment, to just and favourable conditions of \\nwork and to protection against unemployment.\\n \\n(2) Everyone, without any discrimination, has the right to equal pay for equal work.\\n \\n(3) Everyone who \\nworks has the right to just and favourable remuneration ensuring for himself and his \\nfamily an existence worthy of human dignity, and supplemented, if necessary, by other means of social \\nprotection.\\n \\n(4) Everyone has the right to form and to join trade unio\\nns for the protection of his interests.\\n \\nArticle 24.\\n \\n \\n \\nEveryone has the right to rest and leisure, including reasonable limitation of working hours and periodic \\nholidays with pay.\\n \\nArticle 25.\\n \\n \\n \\n(1) Everyone has the right to a standard of living adequate for\\n \\nthe health and well\\n-\\nbeing of himself and \\nof his family, including food, clothing, housing and medical care and necessary social services, and the \\nright to security in the event of unemployment, sickness, disability, widowhood, old age or other lack of \\nliv\\nelihood in circumstances beyond his control.\\n \\n(2) Motherhood and childhood are entitled to special care and assistance. All children, whether born in \\nor out of wedlock, shall enjoy the same social protection.\\n \\nArticle 26.\\n \\n \\n \\n(1) Everyone has the right to educ\\nation. Education shall be free, at least in the elementary and \\nfundamental stages. Elementary education shall be compulsory. Technical and professional education \\nshall be made generally available and higher education shall be equally accessible to all on t\\nhe basis of \\nmerit.\\n \\n(2) Education shall be directed to the full development of the human personality and to the \\nstrengthening of respect for human rights and fundamental freedoms. It shall promote understanding, \\ntolerance and friendship among all nations, r\\nacial or religious groups, and shall further the activities of \\nthe United Nations for the maintenance of peace.\\n \\n(3) Parents have a prior right to choose the kind of education that shall be given to their children.\\n \\nArticle 27.\\n \\n \\n \\n(1) Everyone has the right f\\nreely to participate in the cultural life of the community, to enjoy the arts and \\nto share in scientific advancement and its benefits.\\n \\n', '(2) Everyone has the right to the protection of the moral and material interests resulting from any \\nscientific, literary \\nor artistic production of which he is the author.\\n \\nArticle 28.\\n \\n \\n \\nEveryone is entitled to a social and international order in which the rights and freedoms set forth in this \\nDeclaration can be fully realized.\\n \\nArticle 29.\\n \\n \\n \\n(1) Everyone has duties to the comm\\nunity in which alone the free and full development of his \\npersonality is possible.\\n \\n(2) In the exercise of his rights and freedoms, everyone shall be subject only to such limitations as are \\ndetermined by law solely for the purpose of securing due recognitio\\nn and respect for the rights and \\nfreedoms of others and of meeting the just requirements of morality, public order and the general \\nwelfare in a democratic society.\\n \\n(3) These rights and freedoms may in no case be exercised contrary to the purposes and princ\\niples of the \\nUnited Nations.\\n \\nArticle 30.\\n \\n \\n \\nNothing in this Declaration may be interpreted as implying for any State, group or person any right to \\nengage in any activity or to perform any act aimed at the destruction of any of the rights and freedoms \\nset fo\\nrth herein.\\n \\n \\n']\n"
     ]
    }
   ],
   "source": [
    "print(ListOfPages)"
   ]
  },
  {
   "cell_type": "markdown",
   "metadata": {},
   "source": [
    "### Practice with files"
   ]
  },
  {
   "cell_type": "code",
   "execution_count": 21,
   "metadata": {},
   "outputs": [],
   "source": [
    "# Here the task will be to clean and combine informations from 2 files: txt and pdf.\n",
    "# List_of_big_cities.txt contains the headinds\n",
    "# Data_about_cities.pdf contain data about cities\n",
    "#\n",
    "# Your task is to take information from pdf, clean it and insert into txt"
   ]
  },
  {
   "cell_type": "code",
   "execution_count": 22,
   "metadata": {},
   "outputs": [
    {
     "name": "stdout",
     "output_type": "stream",
     "text": [
      "Overwriting List_of_big_cities.txt\n"
     ]
    }
   ],
   "source": [
    "%%writefile List_of_big_cities.txt\n",
    "Biggest cities in Czech Republic:\n",
    "City, Population, Area km2, Region\n"
   ]
  },
  {
   "cell_type": "code",
   "execution_count": 23,
   "metadata": {},
   "outputs": [],
   "source": [
    "# Perform import\n"
   ]
  },
  {
   "cell_type": "code",
   "execution_count": 24,
   "metadata": {},
   "outputs": [],
   "source": [
    "# Open the file as a binary object\n",
    "pdfFile = open('Data_about_cities.pdf', 'rb')\n",
    "\n",
    "# define list of text\n",
    "List = []"
   ]
  },
  {
   "cell_type": "code",
   "execution_count": 25,
   "metadata": {},
   "outputs": [],
   "source": [
    "# Use PyPDF2 to read the text of the file\n",
    "pdfPages = PyPDF2.PdfFileReader(pdfFile)"
   ]
  },
  {
   "cell_type": "code",
   "execution_count": 26,
   "metadata": {},
   "outputs": [],
   "source": [
    "# Get the text from page (CHALLENGE: Do this in one step!)\n",
    "text = pdfPages.getPage(0).extractText()"
   ]
  },
  {
   "cell_type": "code",
   "execution_count": 27,
   "metadata": {},
   "outputs": [],
   "source": [
    "# Close the file\n",
    "pdfFile.close()"
   ]
  },
  {
   "cell_type": "code",
   "execution_count": 28,
   "metadata": {},
   "outputs": [
    {
     "name": "stdout",
     "output_type": "stream",
     "text": [
      "This is a completely useless lineandwould be great to delete it.\n",
      "Prague, 1391508, 496, Prague\n",
      "Brno, 377028, 230, South Moravian Region\n",
      "Ostrava, 314590, 214, Moravian-Silesian Region\n",
      "Pilsen, 177936, 138, Pilsen Region\n",
      "Liberec, 105229, 106, Liberec Region\n",
      "\n"
     ]
    }
   ],
   "source": [
    "# Print the contents of page_one_text\n",
    "print(text)"
   ]
  },
  {
   "cell_type": "code",
   "execution_count": 29,
   "metadata": {},
   "outputs": [
    {
     "name": "stdout",
     "output_type": "stream",
     "text": [
      "\n",
      "Prague, 1391508, 496, Prague\n",
      "Brno, 377028, 230, South Moravian Region\n",
      "Ostrava, 314590, 214, Moravian-Silesian Region\n",
      "Pilsen, 177936, 138, Pilsen Region\n",
      "Liberec, 105229, 106, Liberec Region\n",
      "\n"
     ]
    }
   ],
   "source": [
    "# Remove the useless line\n",
    "# length of line\n",
    "length = len(text)\n",
    "x = 0\n",
    "while x < length:\n",
    "    length = len(text)\n",
    "    pos = text.find(\"\\n\", x, length)\n",
    "    if pos == -1:\n",
    "        x += 1\n",
    "    else:\n",
    "        subStr = text[x: pos]\n",
    "        if subStr.find(\",\") == -1:\n",
    "            if subStr.find(\" \") != -1:\n",
    "                text = text.replace(subStr, '')\n",
    "        x += pos\n",
    "print(text)"
   ]
  },
  {
   "cell_type": "code",
   "execution_count": 32,
   "metadata": {},
   "outputs": [
    {
     "ename": "TypeError",
     "evalue": "string indices must be integers",
     "output_type": "error",
     "traceback": [
      "\u001b[1;31m---------------------------------------------------------------------------\u001b[0m",
      "\u001b[1;31mTypeError\u001b[0m                                 Traceback (most recent call last)",
      "\u001b[1;32m<ipython-input-32-b9844f5277a4>\u001b[0m in \u001b[0;36m<module>\u001b[1;34m\u001b[0m\n\u001b[0;32m      2\u001b[0m \u001b[0mtoWrite\u001b[0m \u001b[1;33m=\u001b[0m \u001b[0mopen\u001b[0m\u001b[1;33m(\u001b[0m\u001b[1;34m\"List_of_big_cities.txt\"\u001b[0m\u001b[1;33m,\u001b[0m \u001b[1;34m\"rb\"\u001b[0m\u001b[1;33m)\u001b[0m\u001b[1;33m\u001b[0m\u001b[1;33m\u001b[0m\u001b[0m\n\u001b[0;32m      3\u001b[0m \u001b[0mwriter\u001b[0m \u001b[1;33m=\u001b[0m \u001b[0mPyPDF2\u001b[0m\u001b[1;33m.\u001b[0m\u001b[0mPdfFileWriter\u001b[0m\u001b[1;33m(\u001b[0m\u001b[1;33m)\u001b[0m\u001b[1;33m\u001b[0m\u001b[1;33m\u001b[0m\u001b[0m\n\u001b[1;32m----> 4\u001b[1;33m \u001b[0mwriter\u001b[0m\u001b[1;33m.\u001b[0m\u001b[0maddPage\u001b[0m\u001b[1;33m(\u001b[0m\u001b[0mtext\u001b[0m\u001b[1;33m)\u001b[0m\u001b[1;33m\u001b[0m\u001b[1;33m\u001b[0m\u001b[0m\n\u001b[0m",
      "\u001b[1;32m~\\AppData\\Local\\Continuum\\anaconda3\\lib\\site-packages\\PyPDF2\\pdf.py\u001b[0m in \u001b[0;36maddPage\u001b[1;34m(self, page)\u001b[0m\n\u001b[0;32m    136\u001b[0m             \u001b[0man\u001b[0m \u001b[0minstance\u001b[0m \u001b[0mof\u001b[0m \u001b[1;33m:\u001b[0m\u001b[1;32mclass\u001b[0m\u001b[1;33m:\u001b[0m\u001b[0;31m`\u001b[0m\u001b[0mPageObject\u001b[0m\u001b[1;33m<\u001b[0m\u001b[0mPyPDF2\u001b[0m\u001b[1;33m.\u001b[0m\u001b[0mpdf\u001b[0m\u001b[1;33m.\u001b[0m\u001b[0mPageObject\u001b[0m\u001b[1;33m>\u001b[0m\u001b[0;31m`\u001b[0m\u001b[1;33m\u001b[0m\u001b[1;33m\u001b[0m\u001b[0m\n\u001b[0;32m    137\u001b[0m         \"\"\"\n\u001b[1;32m--> 138\u001b[1;33m         \u001b[0mself\u001b[0m\u001b[1;33m.\u001b[0m\u001b[0m_addPage\u001b[0m\u001b[1;33m(\u001b[0m\u001b[0mpage\u001b[0m\u001b[1;33m,\u001b[0m \u001b[0mlist\u001b[0m\u001b[1;33m.\u001b[0m\u001b[0mappend\u001b[0m\u001b[1;33m)\u001b[0m\u001b[1;33m\u001b[0m\u001b[1;33m\u001b[0m\u001b[0m\n\u001b[0m\u001b[0;32m    139\u001b[0m \u001b[1;33m\u001b[0m\u001b[0m\n\u001b[0;32m    140\u001b[0m     \u001b[1;32mdef\u001b[0m \u001b[0minsertPage\u001b[0m\u001b[1;33m(\u001b[0m\u001b[0mself\u001b[0m\u001b[1;33m,\u001b[0m \u001b[0mpage\u001b[0m\u001b[1;33m,\u001b[0m \u001b[0mindex\u001b[0m\u001b[1;33m=\u001b[0m\u001b[1;36m0\u001b[0m\u001b[1;33m)\u001b[0m\u001b[1;33m:\u001b[0m\u001b[1;33m\u001b[0m\u001b[1;33m\u001b[0m\u001b[0m\n",
      "\u001b[1;32m~\\AppData\\Local\\Continuum\\anaconda3\\lib\\site-packages\\PyPDF2\\pdf.py\u001b[0m in \u001b[0;36m_addPage\u001b[1;34m(self, page, action)\u001b[0m\n\u001b[0;32m    121\u001b[0m \u001b[1;33m\u001b[0m\u001b[0m\n\u001b[0;32m    122\u001b[0m     \u001b[1;32mdef\u001b[0m \u001b[0m_addPage\u001b[0m\u001b[1;33m(\u001b[0m\u001b[0mself\u001b[0m\u001b[1;33m,\u001b[0m \u001b[0mpage\u001b[0m\u001b[1;33m,\u001b[0m \u001b[0maction\u001b[0m\u001b[1;33m)\u001b[0m\u001b[1;33m:\u001b[0m\u001b[1;33m\u001b[0m\u001b[1;33m\u001b[0m\u001b[0m\n\u001b[1;32m--> 123\u001b[1;33m         \u001b[1;32massert\u001b[0m \u001b[0mpage\u001b[0m\u001b[1;33m[\u001b[0m\u001b[1;34m\"/Type\"\u001b[0m\u001b[1;33m]\u001b[0m \u001b[1;33m==\u001b[0m \u001b[1;34m\"/Page\"\u001b[0m\u001b[1;33m\u001b[0m\u001b[1;33m\u001b[0m\u001b[0m\n\u001b[0m\u001b[0;32m    124\u001b[0m         \u001b[0mpage\u001b[0m\u001b[1;33m[\u001b[0m\u001b[0mNameObject\u001b[0m\u001b[1;33m(\u001b[0m\u001b[1;34m\"/Parent\"\u001b[0m\u001b[1;33m)\u001b[0m\u001b[1;33m]\u001b[0m \u001b[1;33m=\u001b[0m \u001b[0mself\u001b[0m\u001b[1;33m.\u001b[0m\u001b[0m_pages\u001b[0m\u001b[1;33m\u001b[0m\u001b[1;33m\u001b[0m\u001b[0m\n\u001b[0;32m    125\u001b[0m         \u001b[0mpage\u001b[0m \u001b[1;33m=\u001b[0m \u001b[0mself\u001b[0m\u001b[1;33m.\u001b[0m\u001b[0m_addObject\u001b[0m\u001b[1;33m(\u001b[0m\u001b[0mpage\u001b[0m\u001b[1;33m)\u001b[0m\u001b[1;33m\u001b[0m\u001b[1;33m\u001b[0m\u001b[0m\n",
      "\u001b[1;31mTypeError\u001b[0m: string indices must be integers"
     ]
    }
   ],
   "source": [
    "# Open List_of_big_cities.txt and write the information there\n",
    "\n"
   ]
  },
  {
   "cell_type": "markdown",
   "metadata": {},
   "source": [
    "### Congratulations! :)"
   ]
  },
  {
   "cell_type": "code",
   "execution_count": null,
   "metadata": {},
   "outputs": [],
   "source": []
  },
  {
   "cell_type": "code",
   "execution_count": null,
   "metadata": {},
   "outputs": [],
   "source": []
  },
  {
   "cell_type": "code",
   "execution_count": null,
   "metadata": {},
   "outputs": [],
   "source": []
  },
  {
   "cell_type": "code",
   "execution_count": null,
   "metadata": {},
   "outputs": [],
   "source": []
  },
  {
   "cell_type": "code",
   "execution_count": null,
   "metadata": {},
   "outputs": [],
   "source": []
  }
 ],
 "metadata": {
  "kernelspec": {
   "display_name": "Python 3",
   "language": "python",
   "name": "python3"
  },
  "language_info": {
   "codemirror_mode": {
    "name": "ipython",
    "version": 3
   },
   "file_extension": ".py",
   "mimetype": "text/x-python",
   "name": "python",
   "nbconvert_exporter": "python",
   "pygments_lexer": "ipython3",
   "version": "3.7.3"
  }
 },
 "nbformat": 4,
 "nbformat_minor": 2
}
